{
  "cells": [
    {
      "cell_type": "markdown",
      "source": [
        "# Importazione librerie"
      ],
      "metadata": {
        "id": "SX7TskHWjygC"
      }
    },
    {
      "cell_type": "code",
      "execution_count": null,
      "metadata": {
        "id": "70I1uhWjXofE"
      },
      "outputs": [],
      "source": [
        "import numpy as np\n",
        "import matplotlib.pyplot as plt\n",
        "from sklearn.datasets import load_digits\n",
        "from sklearn.model_selection import train_test_split\n",
        "from sklearn.preprocessing import StandardScaler, OneHotEncoder"
      ]
    },
    {
      "cell_type": "markdown",
      "source": [
        "# Caricamento dataset"
      ],
      "metadata": {
        "id": "uYopxnLuj6aN"
      }
    },
    {
      "cell_type": "code",
      "execution_count": null,
      "metadata": {
        "colab": {
          "base_uri": "https://localhost:8080/"
        },
        "id": "cGa_7ar_YvVp",
        "outputId": "12b3c2b9-001d-4688-e5fc-91b44b82bba8"
      },
      "outputs": [
        {
          "output_type": "execute_result",
          "data": {
            "text/plain": [
              "((1437, 64), (360, 64), (1437, 10), (360, 10))"
            ]
          },
          "metadata": {},
          "execution_count": 4
        }
      ],
      "source": [
        "# Load the digits dataset\n",
        "digits = load_digits()        # variante semplificata di MNIST\n",
        "X, y = digits.data, digits.target\n",
        "\n",
        "# Convert labels to one-hot encoding\n",
        "encoder = OneHotEncoder(sparse_output=False)\n",
        "y_one_hot = encoder.fit_transform(y.reshape(-1, 1))   # da vettore riga a vettore colonna con reshape\n",
        "\n",
        "# Split the data into training and test sets\n",
        "X_train, X_test, y_train, y_test = train_test_split(X, y_one_hot, test_size=0.2, random_state=42)\n",
        "\n",
        "# Normalize the pixel values\n",
        "scaler = StandardScaler()  # per evitare che valori piu alti dei pixel siano piu discriminanti\n",
        "scaler.fit(X_train)\n",
        "X_train_scaled = scaler.transform(X_train)\n",
        "X_test_scaled = scaler.transform(X_test)\n",
        "\n",
        "# Check shapes of the datasets\n",
        "X_train_scaled.shape, X_test_scaled.shape, y_train.shape, y_test.shape"
      ]
    },
    {
      "cell_type": "markdown",
      "source": [
        "# Esempio di campioni"
      ],
      "metadata": {
        "id": "HI4bDLk9j_JV"
      }
    },
    {
      "cell_type": "code",
      "execution_count": null,
      "metadata": {
        "id": "ZjaBXaI2aiyE"
      },
      "outputs": [],
      "source": [
        "def plot_digits(X, y, indices):\n",
        "    n = len(indices)\n",
        "    plt.figure(figsize=(10, 4))\n",
        "    for i, idx in enumerate(indices):\n",
        "        plt.subplot(1, n, i + 1)\n",
        "        img = X[idx].reshape(8, 8)  # Reshape back to 8x8 image\n",
        "        plt.imshow(img, cmap='gray')\n",
        "        plt.title(f'Label: {y[idx]}')\n",
        "        plt.axis('off')\n",
        "    plt.show()"
      ]
    },
    {
      "cell_type": "code",
      "execution_count": null,
      "metadata": {
        "colab": {
          "base_uri": "https://localhost:8080/",
          "height": 192
        },
        "id": "bU_s_oQIauV4",
        "outputId": "8788f73e-79b5-481a-d7af-371ff2dcff89"
      },
      "outputs": [
        {
          "data": {
            "image/png": "[encoded data removed]",
            "text/plain": [
              "<Figure size 1000x400 with 5 Axes>"
            ]
          },
          "metadata": {},
          "output_type": "display_data"
        }
      ],
      "source": [
        "plot_digits(X, y, range(5))"
      ]
    },
    {
      "cell_type": "markdown",
      "metadata": {
        "id": "EyYIegGJSt4S"
      },
      "source": [
        "# Try this\n",
        "* Implement an MLP from scratch to solve the digit classification problem."
      ]
    },
    {
      "cell_type": "markdown",
      "metadata": {
        "id": "MXbEHOowfVk0"
      },
      "source": [
        "# TensorFlow"
      ]
    },
    {
      "cell_type": "code",
      "execution_count": null,
      "metadata": {
        "id": "nGqd3P3YfW-R"
      },
      "outputs": [],
      "source": [
        "import tensorflow as tf\n",
        "from tensorflow.keras.datasets import mnist\n",
        "from tensorflow.keras.utils import to_categorical\n",
        "from tensorflow.keras import models\n",
        "from tensorflow.keras import layers"
      ]
    },
    {
      "cell_type": "code",
      "execution_count": null,
      "metadata": {
        "colab": {
          "base_uri": "https://localhost:8080/"
        },
        "id": "mxNZ1VNefaHm",
        "outputId": "40cec228-0c39-4545-d207-2053990e64be"
      },
      "outputs": [
        {
          "output_type": "stream",
          "name": "stdout",
          "text": [
            "(28, 28)\n"
          ]
        }
      ],
      "source": [
        "# Load the MNIST dataset\n",
        "(train_images, train_labels), (test_images, test_labels) = mnist.load_data()\n",
        "\n",
        "print(train_images[0].shape)\n",
        "\n",
        "# Normalize the images : risultato tra 0 e 1\n",
        "train_images = train_images / 255.0\n",
        "test_images = test_images / 255.0\n",
        "\n",
        "# One-hot encode the labels\n",
        "train_labels = to_categorical(train_labels)\n",
        "test_labels = to_categorical(test_labels)"
      ]
    },
    {
      "cell_type": "code",
      "execution_count": null,
      "metadata": {
        "id": "0q0fucXCfdxn"
      },
      "outputs": [],
      "source": [
        "model = models.Sequential()\n",
        "model.add(layers.Flatten(input_shape=(28, 28)))  # Flatten the input image : spaghettifica in vettore monodimensionale\n",
        "model.add(layers.Dense(128, activation='relu'))  # Hidden layer with ReLU activation (Dense sinonimo di fully connected)\n",
        "model.add(layers.Dense(10, activation='softmax'))  # Output layer with softmax activation"
      ]
    },
    {
      "cell_type": "code",
      "execution_count": null,
      "metadata": {
        "id": "tmytgvyqfe6R"
      },
      "outputs": [],
      "source": [
        "model.compile(optimizer='adam',  # variante adattativa della dg\n",
        "              loss='categorical_crossentropy',\n",
        "              metrics=['accuracy'])"
      ]
    },
    {
      "cell_type": "code",
      "execution_count": null,
      "metadata": {
        "colab": {
          "base_uri": "https://localhost:8080/"
        },
        "id": "17wiQohdfgbh",
        "outputId": "2ec7b318-20f6-4852-8015-7f2b89df0c6a"
      },
      "outputs": [
        {
          "output_type": "stream",
          "name": "stdout",
          "text": [
            "Epoch 1/5\n",
            "\u001b[1m938/938\u001b[0m \u001b[32m━━━━━━━━━━━━━━━━━━━━\u001b[0m\u001b[37m\u001b[0m \u001b[1m5s\u001b[0m 4ms/step - accuracy: 0.8601 - loss: 0.5044\n",
            "Epoch 2/5\n",
            "\u001b[1m938/938\u001b[0m \u001b[32m━━━━━━━━━━━━━━━━━━━━\u001b[0m\u001b[37m\u001b[0m \u001b[1m5s\u001b[0m 5ms/step - accuracy: 0.9589 - loss: 0.1430\n",
            "Epoch 3/5\n",
            "\u001b[1m938/938\u001b[0m \u001b[32m━━━━━━━━━━━━━━━━━━━━\u001b[0m\u001b[37m\u001b[0m \u001b[1m5s\u001b[0m 5ms/step - accuracy: 0.9727 - loss: 0.0928\n",
            "Epoch 4/5\n",
            "\u001b[1m938/938\u001b[0m \u001b[32m━━━━━━━━━━━━━━━━━━━━\u001b[0m\u001b[37m\u001b[0m \u001b[1m4s\u001b[0m 4ms/step - accuracy: 0.9803 - loss: 0.0680\n",
            "Epoch 5/5\n",
            "\u001b[1m938/938\u001b[0m \u001b[32m━━━━━━━━━━━━━━━━━━━━\u001b[0m\u001b[37m\u001b[0m \u001b[1m4s\u001b[0m 3ms/step - accuracy: 0.9851 - loss: 0.0535\n"
          ]
        },
        {
          "output_type": "execute_result",
          "data": {
            "text/plain": [
              "<keras.src.callbacks.history.History at 0x7e74bc749990>"
            ]
          },
          "metadata": {},
          "execution_count": 5
        }
      ],
      "source": [
        "model.fit(train_images, train_labels, epochs=5, batch_size=64)"
      ]
    },
    {
      "cell_type": "code",
      "execution_count": null,
      "metadata": {
        "colab": {
          "base_uri": "https://localhost:8080/"
        },
        "id": "O1-5_jH1fhqB",
        "outputId": "5703289b-d636-4215-f3c1-a3b9437d1064"
      },
      "outputs": [
        {
          "output_type": "stream",
          "name": "stdout",
          "text": [
            "\u001b[1m313/313\u001b[0m \u001b[32m━━━━━━━━━━━━━━━━━━━━\u001b[0m\u001b[37m\u001b[0m \u001b[1m1s\u001b[0m 1ms/step - accuracy: 0.9701 - loss: 0.0883\n",
            "Test accuracy: 0.9735000133514404\n"
          ]
        }
      ],
      "source": [
        "test_loss, test_acc = model.evaluate(test_images, test_labels)\n",
        "print(f'Test accuracy: {test_acc}')"
      ]
    },
    {
      "cell_type": "markdown",
      "metadata": {
        "id": "x55tP-KwTBUU"
      },
      "source": [
        "# Try this\n",
        "* Convert the above solution into a PyTorch implementation."
      ]
    },
    {
      "cell_type": "markdown",
      "source": [
        "# PyTorch"
      ],
      "metadata": {
        "id": "TQr4ujDfxECA"
      }
    },
    {
      "cell_type": "code",
      "source": [
        "# importazione librerire\n",
        "\n",
        "import torch\n",
        "import torch.nn as nn\n",
        "import torch.nn.functional as F\n",
        "import torch.optim as optim\n",
        "from torch.utils.data import DataLoader\n",
        "from torchvision import datasets, transforms\n",
        "import matplotlib.pyplot as plt\n",
        "import numpy as np"
      ],
      "metadata": {
        "id": "pJt46FToxFce"
      },
      "execution_count": 4,
      "outputs": []
    },
    {
      "cell_type": "code",
      "source": [
        "class Net(nn.Module):\n",
        "\n",
        "    def __init__(self):\n",
        "\n",
        "        super(Net, self).__init__()\n",
        "        self.Flatten = nn.Flatten()\n",
        "        self.linear_relu_stack = nn.Sequential(\n",
        "            nn.Linear(28*28, 512),\n",
        "            nn.ReLU(),\n",
        "            nn.Linear(512, 10),\n",
        "        )\n",
        "\n",
        "    def forward(self, x):\n",
        "        x = self.Flatten(x)\n",
        "        logits = self.linear_relu_stack(x)\n",
        "        return logits\n",
        "\n",
        "\n",
        "def accuracy(outputs, labels):\n",
        "    \"Confronta le predizioni con le effettiche etichette, e restituisce la % di predizioni corrette\"\n",
        "    _, preds = torch.max(outputs, 1)\n",
        "    return torch.sum(preds == labels).item() / len(labels)\n",
        "\n",
        "\n",
        "def train(model, device, train_loader, criterion, optimizer, epoch):\n",
        "    \"Addestramento della Rete Neurale\"\n",
        "    model.train()\n",
        "    running_loss = 0.0\n",
        "    running_acc = 0.0\n",
        "\n",
        "    # ciclo sui batch:  forward -> loss -> backward -> update -> forward -> ...\n",
        "\n",
        "    for i, (inputs, labels) in enumerate(train_loader):\n",
        "        inputs, labels = inputs.to(device), labels.to(device)\n",
        "        optimizer.zero_grad()\n",
        "        outputs = model(inputs)\n",
        "        loss = criterion(outputs, labels)\n",
        "        loss.backward()\n",
        "        optimizer.step()\n",
        "\n",
        "        running_loss += loss.item()\n",
        "        running_acc += accuracy(outputs, labels)\n",
        "\n",
        "        # ogni 200 batch stampa media loss e accuratezza.\n",
        "        if (i + 1) % 200 == 0:\n",
        "            print(f'Epoch {epoch}, Batch {i+1}, Loss: {running_loss / 200:.4f}, Accuracy: {running_acc / 200:.4f}')\n",
        "            running_loss = 0.0\n",
        "            running_acc = 0.0\n",
        "\n",
        "\n",
        "def test(model, device, test_loader, criterion):\n",
        "    \"Valutazione sul test set\"\n",
        "    model.eval()\n",
        "    test_loss = 0.0\n",
        "    test_acc = 0.0\n",
        "    with torch.no_grad():\n",
        "        for inputs, labels in test_loader:\n",
        "            inputs, labels = inputs.to(device), labels.to(device)\n",
        "            outputs = model(inputs)\n",
        "            loss = criterion(outputs, labels)\n",
        "            test_loss += loss.item()\n",
        "            test_acc += accuracy(outputs, labels)\n",
        "    print(f'Test Loss: {test_loss / len(test_loader):.4f}, Test Accuracy: {test_acc / len(test_loader):.4f}\\n')"
      ],
      "metadata": {
        "id": "uzpePv-JxGhO"
      },
      "execution_count": 5,
      "outputs": []
    },
    {
      "cell_type": "code",
      "source": [
        "# iperparametri\n",
        "\n",
        "batch_size = 64\n",
        "num_epochs = 10\n",
        "learning_rate = 0.01"
      ],
      "metadata": {
        "id": "Hg2m53EvxKG0"
      },
      "execution_count": 6,
      "outputs": []
    },
    {
      "cell_type": "code",
      "source": [
        "transform = transforms.Compose([\n",
        "    transforms.ToTensor(),    # converte l’immagine in tensor (valori tra 0 e 1)\n",
        "    transforms.Normalize((0.1307,), (0.3081,))  # normalizza le immagini in base alla media e deviazione standard del dataset MNIST\n",
        "])\n"
      ],
      "metadata": {
        "id": "GQESI9uzxL1v"
      },
      "execution_count": 7,
      "outputs": []
    },
    {
      "cell_type": "code",
      "source": [
        "# caricamento dataset\n",
        "train_dataset = datasets.MNIST(root='.', train=True, download=True, transform=transform)\n",
        "test_dataset = datasets.MNIST(root='.', train=False, download=True, transform=transform)\n",
        "\n",
        "# immagini 28 x 28\n",
        "\n",
        "# divisione dei dati in batch per il training e test\n",
        "train_loader = DataLoader(train_dataset, batch_size=batch_size, shuffle=True)\n",
        "test_loader = DataLoader(test_dataset, batch_size=batch_size, shuffle=False)\n",
        "\n",
        "for X, y in train_loader:\n",
        "  print(f\"Shape of X [N C H W]: {X.shape}\")\n",
        "  print(f\"Shape of y: {y.shape} {y.dtype}\")\n",
        "  break"
      ],
      "metadata": {
        "colab": {
          "base_uri": "https://localhost:8080/"
        },
        "id": "h1BvYNMCxMqO",
        "outputId": "428e1285-9c64-4281-b3ef-587e869eb7a2"
      },
      "execution_count": 8,
      "outputs": [
        {
          "output_type": "stream",
          "name": "stdout",
          "text": [
            "Shape of X [N C H W]: torch.Size([64, 1, 28, 28])\n",
            "Shape of y: torch.Size([64]) torch.int64\n"
          ]
        }
      ]
    },
    {
      "cell_type": "code",
      "source": [
        "# preparazione\n",
        "\n",
        "device = torch.device(\"cuda\" if torch.cuda.is_available() else \"cpu\")  # usa la GPU se disponibile\n",
        "\n",
        "model = Net().to(device)\n",
        "print(model)"
      ],
      "metadata": {
        "colab": {
          "base_uri": "https://localhost:8080/"
        },
        "id": "HNcs8McmxOdw",
        "outputId": "3ded2aa1-8a19-4929-f115-9ed4b479b9b8"
      },
      "execution_count": 9,
      "outputs": [
        {
          "output_type": "stream",
          "name": "stdout",
          "text": [
            "Net(\n",
            "  (Flatten): Flatten(start_dim=1, end_dim=-1)\n",
            "  (linear_relu_stack): Sequential(\n",
            "    (0): Linear(in_features=784, out_features=512, bias=True)\n",
            "    (1): ReLU()\n",
            "    (2): Linear(in_features=512, out_features=10, bias=True)\n",
            "  )\n",
            ")\n"
          ]
        }
      ]
    },
    {
      "cell_type": "code",
      "source": [
        "criterion = nn.CrossEntropyLoss()   # include già la softmax internamente\n",
        "optimizer = optim.SGD(model.parameters(), lr=learning_rate)"
      ],
      "metadata": {
        "id": "KLCtZhOixT94"
      },
      "execution_count": 10,
      "outputs": []
    },
    {
      "cell_type": "code",
      "source": [
        "# per ogni epoca addestriamo e poi testiamo il modello\n",
        "for epoch in range(1, num_epochs + 1):\n",
        "    train(model, device, train_loader, criterion, optimizer, epoch)\n",
        "    test(model, device, test_loader, criterion)"
      ],
      "metadata": {
        "colab": {
          "base_uri": "https://localhost:8080/"
        },
        "id": "SY_MVi3DxWWL",
        "outputId": "40de0ce4-df83-45c6-a23d-7aff69f898da"
      },
      "execution_count": 11,
      "outputs": [
        {
          "output_type": "stream",
          "name": "stdout",
          "text": [
            "Epoch 1, Batch 200, Loss: 1.1029, Accuracy: 0.7642\n",
            "Epoch 1, Batch 400, Loss: 0.4942, Accuracy: 0.8733\n",
            "Epoch 1, Batch 600, Loss: 0.3999, Accuracy: 0.8889\n",
            "Epoch 1, Batch 800, Loss: 0.3578, Accuracy: 0.9005\n",
            "Test Loss: 0.3074, Test Accuracy: 0.9139\n",
            "\n",
            "Epoch 2, Batch 200, Loss: 0.3047, Accuracy: 0.9148\n",
            "Epoch 2, Batch 400, Loss: 0.2950, Accuracy: 0.9142\n",
            "Epoch 2, Batch 600, Loss: 0.2839, Accuracy: 0.9197\n",
            "Epoch 2, Batch 800, Loss: 0.2816, Accuracy: 0.9202\n",
            "Test Loss: 0.2468, Test Accuracy: 0.9306\n",
            "\n",
            "Epoch 3, Batch 200, Loss: 0.2576, Accuracy: 0.9280\n",
            "Epoch 3, Batch 400, Loss: 0.2417, Accuracy: 0.9327\n",
            "Epoch 3, Batch 600, Loss: 0.2374, Accuracy: 0.9343\n",
            "Epoch 3, Batch 800, Loss: 0.2294, Accuracy: 0.9359\n",
            "Test Loss: 0.2118, Test Accuracy: 0.9397\n",
            "\n",
            "Epoch 4, Batch 200, Loss: 0.2106, Accuracy: 0.9405\n",
            "Epoch 4, Batch 400, Loss: 0.2023, Accuracy: 0.9427\n",
            "Epoch 4, Batch 600, Loss: 0.2092, Accuracy: 0.9434\n",
            "Epoch 4, Batch 800, Loss: 0.2035, Accuracy: 0.9407\n",
            "Test Loss: 0.1882, Test Accuracy: 0.9432\n",
            "\n",
            "Epoch 5, Batch 200, Loss: 0.1898, Accuracy: 0.9455\n",
            "Epoch 5, Batch 400, Loss: 0.1797, Accuracy: 0.9501\n",
            "Epoch 5, Batch 600, Loss: 0.1741, Accuracy: 0.9503\n",
            "Epoch 5, Batch 800, Loss: 0.1791, Accuracy: 0.9498\n",
            "Test Loss: 0.1688, Test Accuracy: 0.9529\n",
            "\n",
            "Epoch 6, Batch 200, Loss: 0.1653, Accuracy: 0.9538\n",
            "Epoch 6, Batch 400, Loss: 0.1595, Accuracy: 0.9570\n",
            "Epoch 6, Batch 600, Loss: 0.1532, Accuracy: 0.9581\n",
            "Epoch 6, Batch 800, Loss: 0.1571, Accuracy: 0.9552\n",
            "Test Loss: 0.1516, Test Accuracy: 0.9565\n",
            "\n",
            "Epoch 7, Batch 200, Loss: 0.1409, Accuracy: 0.9624\n",
            "Epoch 7, Batch 400, Loss: 0.1523, Accuracy: 0.9567\n",
            "Epoch 7, Batch 600, Loss: 0.1463, Accuracy: 0.9576\n",
            "Epoch 7, Batch 800, Loss: 0.1454, Accuracy: 0.9602\n",
            "Test Loss: 0.1405, Test Accuracy: 0.9603\n",
            "\n",
            "Epoch 8, Batch 200, Loss: 0.1344, Accuracy: 0.9623\n",
            "Epoch 8, Batch 400, Loss: 0.1303, Accuracy: 0.9667\n",
            "Epoch 8, Batch 600, Loss: 0.1306, Accuracy: 0.9634\n",
            "Epoch 8, Batch 800, Loss: 0.1355, Accuracy: 0.9613\n",
            "Test Loss: 0.1314, Test Accuracy: 0.9627\n",
            "\n",
            "Epoch 9, Batch 200, Loss: 0.1235, Accuracy: 0.9669\n",
            "Epoch 9, Batch 400, Loss: 0.1188, Accuracy: 0.9673\n",
            "Epoch 9, Batch 600, Loss: 0.1245, Accuracy: 0.9651\n",
            "Epoch 9, Batch 800, Loss: 0.1184, Accuracy: 0.9680\n",
            "Test Loss: 0.1222, Test Accuracy: 0.9646\n",
            "\n",
            "Epoch 10, Batch 200, Loss: 0.1164, Accuracy: 0.9681\n",
            "Epoch 10, Batch 400, Loss: 0.1169, Accuracy: 0.9673\n",
            "Epoch 10, Batch 600, Loss: 0.1055, Accuracy: 0.9720\n",
            "Epoch 10, Batch 800, Loss: 0.1079, Accuracy: 0.9697\n",
            "Test Loss: 0.1162, Test Accuracy: 0.9669\n",
            "\n"
          ]
        }
      ]
    },
    {
      "cell_type": "code",
      "source": [
        "# prendiamo un batch dal test set, effettuiamo le predizioni, e mostriamo l'immagine con l'effettiva etichetta e la predizione effettuata\n",
        "\n",
        "samples, labels = next(iter(test_loader))  # estraiamo un batch di esempi di test\n",
        "samples = samples.to(device)  # spostiamo le immagini sulla GPU se disponibile\n",
        "outputs = model(samples)   # esegue il forward pass del modello\n",
        "_, preds = torch.max(outputs, 1) # trova la classificazione, ovvero l'indice del valore massimo tra le predizioni\n",
        "\n",
        "# Calcolo delle probabilità con softmax (solo per visualizzazione)\n",
        "softmax = torch.nn.Softmax(dim=1)\n",
        "probs = softmax(outputs)\n",
        "\n",
        "\n",
        "samples = samples.cpu().numpy()  # per poterle stampare convertiamo le immagini da tensor in vettori numerici numpy per matplot\n",
        "\n",
        "\n",
        "print(\"Probabilità per le immagini mostrate:\\n\")\n",
        "for idx in range(9):\n",
        "    print(f\"\\nImmagine {idx + 1} (Etichetta: {labels[idx]}, Predizione: {preds[idx]})\")\n",
        "    for classe, prob in enumerate(probs[idx]):\n",
        "        print(f\"  Classe {classe}: {prob.item():.4f}\")\n",
        "\n",
        "\n",
        "fig, axes = plt.subplots(3, 3, figsize=(8, 8))\n",
        "for i, ax in enumerate(axes.ravel()):\n",
        "    ax.imshow(samples[i].squeeze(), cmap='gray')\n",
        "    ax.set_title(f'Label: {labels[i]}, Prediction: {preds[i]}')\n",
        "    ax.axis('off')\n",
        "plt.tight_layout()\n",
        "plt.show()"
      ],
      "metadata": {
        "colab": {
          "base_uri": "https://localhost:8080/",
          "height": 1000
        },
        "id": "H3EBCsh72tmV",
        "outputId": "ffdbeabe-d745-4b6e-96fc-db81ae12c34c"
      },
      "execution_count": 12,
      "outputs": [
        {
          "output_type": "stream",
          "name": "stdout",
          "text": [
            "Probabilità per le immagini mostrate:\n",
            "\n",
            "\n",
            "Immagine 1 (Etichetta: 7, Predizione: 7)\n",
            "  Classe 0: 0.0000\n",
            "  Classe 1: 0.0000\n",
            "  Classe 2: 0.0004\n",
            "  Classe 3: 0.0027\n",
            "  Classe 4: 0.0000\n",
            "  Classe 5: 0.0000\n",
            "  Classe 6: 0.0000\n",
            "  Classe 7: 0.9966\n",
            "  Classe 8: 0.0000\n",
            "  Classe 9: 0.0001\n",
            "\n",
            "Immagine 2 (Etichetta: 2, Predizione: 2)\n",
            "  Classe 0: 0.0002\n",
            "  Classe 1: 0.0001\n",
            "  Classe 2: 0.9954\n",
            "  Classe 3: 0.0033\n",
            "  Classe 4: 0.0000\n",
            "  Classe 5: 0.0003\n",
            "  Classe 6: 0.0004\n",
            "  Classe 7: 0.0000\n",
            "  Classe 8: 0.0003\n",
            "  Classe 9: 0.0000\n",
            "\n",
            "Immagine 3 (Etichetta: 1, Predizione: 1)\n",
            "  Classe 0: 0.0000\n",
            "  Classe 1: 0.9897\n",
            "  Classe 2: 0.0036\n",
            "  Classe 3: 0.0007\n",
            "  Classe 4: 0.0005\n",
            "  Classe 5: 0.0008\n",
            "  Classe 6: 0.0009\n",
            "  Classe 7: 0.0025\n",
            "  Classe 8: 0.0012\n",
            "  Classe 9: 0.0001\n",
            "\n",
            "Immagine 4 (Etichetta: 0, Predizione: 0)\n",
            "  Classe 0: 0.9998\n",
            "  Classe 1: 0.0000\n",
            "  Classe 2: 0.0001\n",
            "  Classe 3: 0.0000\n",
            "  Classe 4: 0.0000\n",
            "  Classe 5: 0.0000\n",
            "  Classe 6: 0.0000\n",
            "  Classe 7: 0.0000\n",
            "  Classe 8: 0.0000\n",
            "  Classe 9: 0.0000\n",
            "\n",
            "Immagine 5 (Etichetta: 4, Predizione: 4)\n",
            "  Classe 0: 0.0002\n",
            "  Classe 1: 0.0000\n",
            "  Classe 2: 0.0006\n",
            "  Classe 3: 0.0000\n",
            "  Classe 4: 0.9789\n",
            "  Classe 5: 0.0002\n",
            "  Classe 6: 0.0004\n",
            "  Classe 7: 0.0011\n",
            "  Classe 8: 0.0003\n",
            "  Classe 9: 0.0182\n",
            "\n",
            "Immagine 6 (Etichetta: 1, Predizione: 1)\n",
            "  Classe 0: 0.0000\n",
            "  Classe 1: 0.9933\n",
            "  Classe 2: 0.0006\n",
            "  Classe 3: 0.0005\n",
            "  Classe 4: 0.0001\n",
            "  Classe 5: 0.0001\n",
            "  Classe 6: 0.0000\n",
            "  Classe 7: 0.0048\n",
            "  Classe 8: 0.0004\n",
            "  Classe 9: 0.0001\n",
            "\n",
            "Immagine 7 (Etichetta: 4, Predizione: 4)\n",
            "  Classe 0: 0.0000\n",
            "  Classe 1: 0.0000\n",
            "  Classe 2: 0.0000\n",
            "  Classe 3: 0.0000\n",
            "  Classe 4: 0.9863\n",
            "  Classe 5: 0.0007\n",
            "  Classe 6: 0.0000\n",
            "  Classe 7: 0.0005\n",
            "  Classe 8: 0.0103\n",
            "  Classe 9: 0.0021\n",
            "\n",
            "Immagine 8 (Etichetta: 9, Predizione: 9)\n",
            "  Classe 0: 0.0000\n",
            "  Classe 1: 0.0005\n",
            "  Classe 2: 0.0011\n",
            "  Classe 3: 0.0024\n",
            "  Classe 4: 0.0031\n",
            "  Classe 5: 0.0008\n",
            "  Classe 6: 0.0000\n",
            "  Classe 7: 0.0015\n",
            "  Classe 8: 0.0003\n",
            "  Classe 9: 0.9903\n",
            "\n",
            "Immagine 9 (Etichetta: 5, Predizione: 6)\n",
            "  Classe 0: 0.0034\n",
            "  Classe 1: 0.0001\n",
            "  Classe 2: 0.0112\n",
            "  Classe 3: 0.0000\n",
            "  Classe 4: 0.0163\n",
            "  Classe 5: 0.0555\n",
            "  Classe 6: 0.9109\n",
            "  Classe 7: 0.0000\n",
            "  Classe 8: 0.0018\n",
            "  Classe 9: 0.0007\n"
          ]
        },
        {
          "output_type": "display_data",
          "data": {
            "text/plain": [
              "<Figure size 800x800 with 9 Axes>"
            ],
            "image/png": "[encoded data removed]"
          },
          "metadata": {}
        }
      ]
    }
  ],
  "metadata": {
    "colab": {
      "provenance": [],
      "toc_visible": true
    },
    "kernelspec": {
      "display_name": "Python 3",
      "name": "python3"
    },
    "language_info": {
      "name": "python"
    }
  },
  "nbformat": 4,
  "nbformat_minor": 0
}